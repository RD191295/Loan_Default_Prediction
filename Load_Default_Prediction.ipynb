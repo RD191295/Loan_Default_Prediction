{
 "cells": [
  {
   "cell_type": "markdown",
   "id": "ebff09f9",
   "metadata": {},
   "source": [
    "# Import Libraries"
   ]
  },
  {
   "cell_type": "code",
   "execution_count": 1,
   "id": "6451fbf8",
   "metadata": {},
   "outputs": [],
   "source": [
    "import numpy as np\n",
    "import pandas as pd\n",
    "import matplotlib.pyplot as plt\n",
    "import seaborn as sns"
   ]
  },
  {
   "cell_type": "markdown",
   "id": "6ac99121",
   "metadata": {},
   "source": [
    "# Dataset loading"
   ]
  },
  {
   "cell_type": "code",
   "execution_count": 2,
   "id": "6d08edc3",
   "metadata": {},
   "outputs": [
    {
     "data": {
      "text/html": [
       "<div>\n",
       "<style scoped>\n",
       "    .dataframe tbody tr th:only-of-type {\n",
       "        vertical-align: middle;\n",
       "    }\n",
       "\n",
       "    .dataframe tbody tr th {\n",
       "        vertical-align: top;\n",
       "    }\n",
       "\n",
       "    .dataframe thead th {\n",
       "        text-align: right;\n",
       "    }\n",
       "</style>\n",
       "<table border=\"1\" class=\"dataframe\">\n",
       "  <thead>\n",
       "    <tr style=\"text-align: right;\">\n",
       "      <th></th>\n",
       "      <th>loan_id</th>\n",
       "      <th>age</th>\n",
       "      <th>education</th>\n",
       "      <th>proof_submitted</th>\n",
       "      <th>loan_amount</th>\n",
       "      <th>asset_cost</th>\n",
       "      <th>no_of_loans</th>\n",
       "      <th>no_of_curr_loans</th>\n",
       "      <th>last_delinq_none</th>\n",
       "      <th>loan_default</th>\n",
       "    </tr>\n",
       "  </thead>\n",
       "  <tbody>\n",
       "    <tr>\n",
       "      <th>0</th>\n",
       "      <td>1</td>\n",
       "      <td>27</td>\n",
       "      <td>1.0</td>\n",
       "      <td>Aadhar</td>\n",
       "      <td>504264</td>\n",
       "      <td>820920</td>\n",
       "      <td>2</td>\n",
       "      <td>2</td>\n",
       "      <td>0</td>\n",
       "      <td>0</td>\n",
       "    </tr>\n",
       "    <tr>\n",
       "      <th>1</th>\n",
       "      <td>2</td>\n",
       "      <td>48</td>\n",
       "      <td>1.0</td>\n",
       "      <td>Aadhar</td>\n",
       "      <td>728556</td>\n",
       "      <td>831444</td>\n",
       "      <td>6</td>\n",
       "      <td>2</td>\n",
       "      <td>0</td>\n",
       "      <td>0</td>\n",
       "    </tr>\n",
       "    <tr>\n",
       "      <th>2</th>\n",
       "      <td>3</td>\n",
       "      <td>30</td>\n",
       "      <td>2.0</td>\n",
       "      <td>VoterID</td>\n",
       "      <td>642936</td>\n",
       "      <td>826092</td>\n",
       "      <td>0</td>\n",
       "      <td>0</td>\n",
       "      <td>0</td>\n",
       "      <td>1</td>\n",
       "    </tr>\n",
       "    <tr>\n",
       "      <th>3</th>\n",
       "      <td>4</td>\n",
       "      <td>28</td>\n",
       "      <td>1.0</td>\n",
       "      <td>Aadhar</td>\n",
       "      <td>746556</td>\n",
       "      <td>930924</td>\n",
       "      <td>0</td>\n",
       "      <td>0</td>\n",
       "      <td>0</td>\n",
       "      <td>0</td>\n",
       "    </tr>\n",
       "    <tr>\n",
       "      <th>4</th>\n",
       "      <td>5</td>\n",
       "      <td>29</td>\n",
       "      <td>1.0</td>\n",
       "      <td>Aadhar</td>\n",
       "      <td>1139880</td>\n",
       "      <td>1902000</td>\n",
       "      <td>0</td>\n",
       "      <td>0</td>\n",
       "      <td>0</td>\n",
       "      <td>0</td>\n",
       "    </tr>\n",
       "    <tr>\n",
       "      <th>5</th>\n",
       "      <td>6</td>\n",
       "      <td>34</td>\n",
       "      <td>2.0</td>\n",
       "      <td>Aadhar</td>\n",
       "      <td>779784</td>\n",
       "      <td>902040</td>\n",
       "      <td>0</td>\n",
       "      <td>0</td>\n",
       "      <td>0</td>\n",
       "      <td>1</td>\n",
       "    </tr>\n",
       "    <tr>\n",
       "      <th>6</th>\n",
       "      <td>7</td>\n",
       "      <td>27</td>\n",
       "      <td>2.0</td>\n",
       "      <td>Aadhar</td>\n",
       "      <td>449268</td>\n",
       "      <td>847896</td>\n",
       "      <td>0</td>\n",
       "      <td>0</td>\n",
       "      <td>0</td>\n",
       "      <td>0</td>\n",
       "    </tr>\n",
       "    <tr>\n",
       "      <th>7</th>\n",
       "      <td>8</td>\n",
       "      <td>27</td>\n",
       "      <td>2.0</td>\n",
       "      <td>Aadhar</td>\n",
       "      <td>582036</td>\n",
       "      <td>905604</td>\n",
       "      <td>0</td>\n",
       "      <td>0</td>\n",
       "      <td>0</td>\n",
       "      <td>1</td>\n",
       "    </tr>\n",
       "    <tr>\n",
       "      <th>8</th>\n",
       "      <td>9</td>\n",
       "      <td>30</td>\n",
       "      <td>1.0</td>\n",
       "      <td>Aadhar</td>\n",
       "      <td>712956</td>\n",
       "      <td>866292</td>\n",
       "      <td>0</td>\n",
       "      <td>0</td>\n",
       "      <td>0</td>\n",
       "      <td>0</td>\n",
       "    </tr>\n",
       "    <tr>\n",
       "      <th>9</th>\n",
       "      <td>10</td>\n",
       "      <td>46</td>\n",
       "      <td>2.0</td>\n",
       "      <td>Aadhar</td>\n",
       "      <td>554988</td>\n",
       "      <td>761724</td>\n",
       "      <td>3</td>\n",
       "      <td>0</td>\n",
       "      <td>0</td>\n",
       "      <td>1</td>\n",
       "    </tr>\n",
       "  </tbody>\n",
       "</table>\n",
       "</div>"
      ],
      "text/plain": [
       "   loan_id  age  education proof_submitted  loan_amount  asset_cost  \\\n",
       "0        1   27        1.0          Aadhar       504264      820920   \n",
       "1        2   48        1.0          Aadhar       728556      831444   \n",
       "2        3   30        2.0         VoterID       642936      826092   \n",
       "3        4   28        1.0          Aadhar       746556      930924   \n",
       "4        5   29        1.0          Aadhar      1139880     1902000   \n",
       "5        6   34        2.0          Aadhar       779784      902040   \n",
       "6        7   27        2.0          Aadhar       449268      847896   \n",
       "7        8   27        2.0          Aadhar       582036      905604   \n",
       "8        9   30        1.0          Aadhar       712956      866292   \n",
       "9       10   46        2.0          Aadhar       554988      761724   \n",
       "\n",
       "   no_of_loans  no_of_curr_loans  last_delinq_none  loan_default  \n",
       "0            2                 2                 0             0  \n",
       "1            6                 2                 0             0  \n",
       "2            0                 0                 0             1  \n",
       "3            0                 0                 0             0  \n",
       "4            0                 0                 0             0  \n",
       "5            0                 0                 0             1  \n",
       "6            0                 0                 0             0  \n",
       "7            0                 0                 0             1  \n",
       "8            0                 0                 0             0  \n",
       "9            3                 0                 0             1  "
      ]
     },
     "execution_count": 2,
     "metadata": {},
     "output_type": "execute_result"
    }
   ],
   "source": [
    "train_data = pd.read_csv(\"train.csv\")\n",
    "train_data.head(10)"
   ]
  },
  {
   "cell_type": "code",
   "execution_count": 3,
   "id": "f31d65bc",
   "metadata": {},
   "outputs": [
    {
     "data": {
      "text/html": [
       "<div>\n",
       "<style scoped>\n",
       "    .dataframe tbody tr th:only-of-type {\n",
       "        vertical-align: middle;\n",
       "    }\n",
       "\n",
       "    .dataframe tbody tr th {\n",
       "        vertical-align: top;\n",
       "    }\n",
       "\n",
       "    .dataframe thead th {\n",
       "        text-align: right;\n",
       "    }\n",
       "</style>\n",
       "<table border=\"1\" class=\"dataframe\">\n",
       "  <thead>\n",
       "    <tr style=\"text-align: right;\">\n",
       "      <th></th>\n",
       "      <th>loan_id</th>\n",
       "      <th>age</th>\n",
       "      <th>education</th>\n",
       "      <th>proof_submitted</th>\n",
       "      <th>loan_amount</th>\n",
       "      <th>asset_cost</th>\n",
       "      <th>no_of_loans</th>\n",
       "      <th>no_of_curr_loans</th>\n",
       "      <th>last_delinq_none</th>\n",
       "    </tr>\n",
       "  </thead>\n",
       "  <tbody>\n",
       "    <tr>\n",
       "      <th>0</th>\n",
       "      <td>7001</td>\n",
       "      <td>29</td>\n",
       "      <td>1.0</td>\n",
       "      <td>Aadhar</td>\n",
       "      <td>636936</td>\n",
       "      <td>768240</td>\n",
       "      <td>2</td>\n",
       "      <td>2</td>\n",
       "      <td>0</td>\n",
       "    </tr>\n",
       "    <tr>\n",
       "      <th>1</th>\n",
       "      <td>7002</td>\n",
       "      <td>28</td>\n",
       "      <td>1.0</td>\n",
       "      <td>Aadhar</td>\n",
       "      <td>548988</td>\n",
       "      <td>693060</td>\n",
       "      <td>3</td>\n",
       "      <td>3</td>\n",
       "      <td>0</td>\n",
       "    </tr>\n",
       "    <tr>\n",
       "      <th>2</th>\n",
       "      <td>7003</td>\n",
       "      <td>28</td>\n",
       "      <td>1.0</td>\n",
       "      <td>Aadhar</td>\n",
       "      <td>651756</td>\n",
       "      <td>936600</td>\n",
       "      <td>0</td>\n",
       "      <td>0</td>\n",
       "      <td>0</td>\n",
       "    </tr>\n",
       "    <tr>\n",
       "      <th>3</th>\n",
       "      <td>7004</td>\n",
       "      <td>45</td>\n",
       "      <td>2.0</td>\n",
       "      <td>Aadhar</td>\n",
       "      <td>614676</td>\n",
       "      <td>744840</td>\n",
       "      <td>4</td>\n",
       "      <td>3</td>\n",
       "      <td>0</td>\n",
       "    </tr>\n",
       "    <tr>\n",
       "      <th>4</th>\n",
       "      <td>7005</td>\n",
       "      <td>48</td>\n",
       "      <td>1.0</td>\n",
       "      <td>Aadhar</td>\n",
       "      <td>625236</td>\n",
       "      <td>839400</td>\n",
       "      <td>0</td>\n",
       "      <td>0</td>\n",
       "      <td>0</td>\n",
       "    </tr>\n",
       "    <tr>\n",
       "      <th>5</th>\n",
       "      <td>7006</td>\n",
       "      <td>41</td>\n",
       "      <td>1.0</td>\n",
       "      <td>Aadhar</td>\n",
       "      <td>608436</td>\n",
       "      <td>793200</td>\n",
       "      <td>2</td>\n",
       "      <td>2</td>\n",
       "      <td>0</td>\n",
       "    </tr>\n",
       "    <tr>\n",
       "      <th>6</th>\n",
       "      <td>7007</td>\n",
       "      <td>37</td>\n",
       "      <td>1.0</td>\n",
       "      <td>Aadhar</td>\n",
       "      <td>589740</td>\n",
       "      <td>894000</td>\n",
       "      <td>22</td>\n",
       "      <td>12</td>\n",
       "      <td>0</td>\n",
       "    </tr>\n",
       "    <tr>\n",
       "      <th>7</th>\n",
       "      <td>7008</td>\n",
       "      <td>29</td>\n",
       "      <td>1.0</td>\n",
       "      <td>Aadhar</td>\n",
       "      <td>708156</td>\n",
       "      <td>844260</td>\n",
       "      <td>0</td>\n",
       "      <td>0</td>\n",
       "      <td>0</td>\n",
       "    </tr>\n",
       "    <tr>\n",
       "      <th>8</th>\n",
       "      <td>7009</td>\n",
       "      <td>42</td>\n",
       "      <td>1.0</td>\n",
       "      <td>Aadhar</td>\n",
       "      <td>796584</td>\n",
       "      <td>978000</td>\n",
       "      <td>0</td>\n",
       "      <td>0</td>\n",
       "      <td>0</td>\n",
       "    </tr>\n",
       "    <tr>\n",
       "      <th>9</th>\n",
       "      <td>7010</td>\n",
       "      <td>27</td>\n",
       "      <td>1.0</td>\n",
       "      <td>Aadhar</td>\n",
       "      <td>752556</td>\n",
       "      <td>920724</td>\n",
       "      <td>0</td>\n",
       "      <td>0</td>\n",
       "      <td>0</td>\n",
       "    </tr>\n",
       "  </tbody>\n",
       "</table>\n",
       "</div>"
      ],
      "text/plain": [
       "   loan_id  age  education proof_submitted  loan_amount  asset_cost  \\\n",
       "0     7001   29        1.0          Aadhar       636936      768240   \n",
       "1     7002   28        1.0          Aadhar       548988      693060   \n",
       "2     7003   28        1.0          Aadhar       651756      936600   \n",
       "3     7004   45        2.0          Aadhar       614676      744840   \n",
       "4     7005   48        1.0          Aadhar       625236      839400   \n",
       "5     7006   41        1.0          Aadhar       608436      793200   \n",
       "6     7007   37        1.0          Aadhar       589740      894000   \n",
       "7     7008   29        1.0          Aadhar       708156      844260   \n",
       "8     7009   42        1.0          Aadhar       796584      978000   \n",
       "9     7010   27        1.0          Aadhar       752556      920724   \n",
       "\n",
       "   no_of_loans  no_of_curr_loans  last_delinq_none  \n",
       "0            2                 2                 0  \n",
       "1            3                 3                 0  \n",
       "2            0                 0                 0  \n",
       "3            4                 3                 0  \n",
       "4            0                 0                 0  \n",
       "5            2                 2                 0  \n",
       "6           22                12                 0  \n",
       "7            0                 0                 0  \n",
       "8            0                 0                 0  \n",
       "9            0                 0                 0  "
      ]
     },
     "execution_count": 3,
     "metadata": {},
     "output_type": "execute_result"
    }
   ],
   "source": [
    "test_data = pd.read_csv(\"test.csv\")\n",
    "test_data.head(10)"
   ]
  },
  {
   "cell_type": "markdown",
   "id": "fcee4eab",
   "metadata": {},
   "source": [
    "# Preprosessing"
   ]
  },
  {
   "cell_type": "code",
   "execution_count": 4,
   "id": "9b1036f9",
   "metadata": {},
   "outputs": [
    {
     "data": {
      "text/plain": [
       "loan_id               0\n",
       "age                   0\n",
       "education           245\n",
       "proof_submitted       0\n",
       "loan_amount           0\n",
       "asset_cost            0\n",
       "no_of_loans           0\n",
       "no_of_curr_loans      0\n",
       "last_delinq_none      0\n",
       "loan_default          0\n",
       "dtype: int64"
      ]
     },
     "execution_count": 4,
     "metadata": {},
     "output_type": "execute_result"
    }
   ],
   "source": [
    "# checking null values in train dataset\n",
    "train_data.isnull().sum()"
   ]
  },
  {
   "cell_type": "code",
   "execution_count": 5,
   "id": "fe28afcf",
   "metadata": {},
   "outputs": [
    {
     "data": {
      "text/plain": [
       "loan_id              0\n",
       "age                  0\n",
       "education           92\n",
       "proof_submitted      0\n",
       "loan_amount          0\n",
       "asset_cost           0\n",
       "no_of_loans          0\n",
       "no_of_curr_loans     0\n",
       "last_delinq_none     0\n",
       "dtype: int64"
      ]
     },
     "execution_count": 5,
     "metadata": {},
     "output_type": "execute_result"
    }
   ],
   "source": [
    "# checking null values in test dataset\n",
    "test_data.isnull().sum()"
   ]
  },
  {
   "cell_type": "code",
   "execution_count": 6,
   "id": "ec8f9d75",
   "metadata": {},
   "outputs": [
    {
     "name": "stdout",
     "output_type": "stream",
     "text": [
      "<class 'pandas.core.frame.DataFrame'>\n",
      "RangeIndex: 7000 entries, 0 to 6999\n",
      "Data columns (total 10 columns):\n",
      " #   Column            Non-Null Count  Dtype  \n",
      "---  ------            --------------  -----  \n",
      " 0   loan_id           7000 non-null   int64  \n",
      " 1   age               7000 non-null   int64  \n",
      " 2   education         6755 non-null   float64\n",
      " 3   proof_submitted   7000 non-null   object \n",
      " 4   loan_amount       7000 non-null   int64  \n",
      " 5   asset_cost        7000 non-null   int64  \n",
      " 6   no_of_loans       7000 non-null   int64  \n",
      " 7   no_of_curr_loans  7000 non-null   int64  \n",
      " 8   last_delinq_none  7000 non-null   int64  \n",
      " 9   loan_default      7000 non-null   int64  \n",
      "dtypes: float64(1), int64(8), object(1)\n",
      "memory usage: 547.0+ KB\n"
     ]
    }
   ],
   "source": [
    "train_data.info()"
   ]
  },
  {
   "cell_type": "code",
   "execution_count": 7,
   "id": "3106eb40",
   "metadata": {},
   "outputs": [
    {
     "data": {
      "text/html": [
       "<div>\n",
       "<style scoped>\n",
       "    .dataframe tbody tr th:only-of-type {\n",
       "        vertical-align: middle;\n",
       "    }\n",
       "\n",
       "    .dataframe tbody tr th {\n",
       "        vertical-align: top;\n",
       "    }\n",
       "\n",
       "    .dataframe thead th {\n",
       "        text-align: right;\n",
       "    }\n",
       "</style>\n",
       "<table border=\"1\" class=\"dataframe\">\n",
       "  <thead>\n",
       "    <tr style=\"text-align: right;\">\n",
       "      <th></th>\n",
       "      <th>loan_id</th>\n",
       "      <th>age</th>\n",
       "      <th>education</th>\n",
       "      <th>loan_amount</th>\n",
       "      <th>asset_cost</th>\n",
       "      <th>no_of_loans</th>\n",
       "      <th>no_of_curr_loans</th>\n",
       "      <th>last_delinq_none</th>\n",
       "      <th>loan_default</th>\n",
       "    </tr>\n",
       "  </thead>\n",
       "  <tbody>\n",
       "    <tr>\n",
       "      <th>count</th>\n",
       "      <td>7000.000000</td>\n",
       "      <td>7000.000000</td>\n",
       "      <td>6755.000000</td>\n",
       "      <td>7.000000e+03</td>\n",
       "      <td>7.000000e+03</td>\n",
       "      <td>7000.000000</td>\n",
       "      <td>7000.000000</td>\n",
       "      <td>7000.000000</td>\n",
       "      <td>7000.000000</td>\n",
       "    </tr>\n",
       "    <tr>\n",
       "      <th>mean</th>\n",
       "      <td>3500.500000</td>\n",
       "      <td>36.096571</td>\n",
       "      <td>1.561954</td>\n",
       "      <td>6.633552e+05</td>\n",
       "      <td>9.162998e+05</td>\n",
       "      <td>2.853286</td>\n",
       "      <td>1.371143</td>\n",
       "      <td>0.013286</td>\n",
       "      <td>0.400000</td>\n",
       "    </tr>\n",
       "    <tr>\n",
       "      <th>std</th>\n",
       "      <td>2020.870275</td>\n",
       "      <td>7.587700</td>\n",
       "      <td>0.496184</td>\n",
       "      <td>1.498128e+05</td>\n",
       "      <td>2.144922e+05</td>\n",
       "      <td>5.471932</td>\n",
       "      <td>2.189278</td>\n",
       "      <td>0.114504</td>\n",
       "      <td>0.489933</td>\n",
       "    </tr>\n",
       "    <tr>\n",
       "      <th>min</th>\n",
       "      <td>1.000000</td>\n",
       "      <td>21.000000</td>\n",
       "      <td>1.000000</td>\n",
       "      <td>1.678800e+05</td>\n",
       "      <td>4.733520e+05</td>\n",
       "      <td>0.000000</td>\n",
       "      <td>0.000000</td>\n",
       "      <td>0.000000</td>\n",
       "      <td>0.000000</td>\n",
       "    </tr>\n",
       "    <tr>\n",
       "      <th>25%</th>\n",
       "      <td>1750.750000</td>\n",
       "      <td>29.000000</td>\n",
       "      <td>1.000000</td>\n",
       "      <td>5.777880e+05</td>\n",
       "      <td>7.979010e+05</td>\n",
       "      <td>0.000000</td>\n",
       "      <td>0.000000</td>\n",
       "      <td>0.000000</td>\n",
       "      <td>0.000000</td>\n",
       "    </tr>\n",
       "    <tr>\n",
       "      <th>50%</th>\n",
       "      <td>3500.500000</td>\n",
       "      <td>36.000000</td>\n",
       "      <td>2.000000</td>\n",
       "      <td>6.571080e+05</td>\n",
       "      <td>8.584260e+05</td>\n",
       "      <td>0.000000</td>\n",
       "      <td>0.000000</td>\n",
       "      <td>0.000000</td>\n",
       "      <td>0.000000</td>\n",
       "    </tr>\n",
       "    <tr>\n",
       "      <th>75%</th>\n",
       "      <td>5250.250000</td>\n",
       "      <td>43.000000</td>\n",
       "      <td>2.000000</td>\n",
       "      <td>7.373640e+05</td>\n",
       "      <td>9.576750e+05</td>\n",
       "      <td>3.000000</td>\n",
       "      <td>2.000000</td>\n",
       "      <td>0.000000</td>\n",
       "      <td>1.000000</td>\n",
       "    </tr>\n",
       "    <tr>\n",
       "      <th>max</th>\n",
       "      <td>7000.000000</td>\n",
       "      <td>50.000000</td>\n",
       "      <td>2.000000</td>\n",
       "      <td>1.781376e+06</td>\n",
       "      <td>2.419200e+06</td>\n",
       "      <td>109.000000</td>\n",
       "      <td>33.000000</td>\n",
       "      <td>1.000000</td>\n",
       "      <td>1.000000</td>\n",
       "    </tr>\n",
       "  </tbody>\n",
       "</table>\n",
       "</div>"
      ],
      "text/plain": [
       "           loan_id          age    education   loan_amount    asset_cost  \\\n",
       "count  7000.000000  7000.000000  6755.000000  7.000000e+03  7.000000e+03   \n",
       "mean   3500.500000    36.096571     1.561954  6.633552e+05  9.162998e+05   \n",
       "std    2020.870275     7.587700     0.496184  1.498128e+05  2.144922e+05   \n",
       "min       1.000000    21.000000     1.000000  1.678800e+05  4.733520e+05   \n",
       "25%    1750.750000    29.000000     1.000000  5.777880e+05  7.979010e+05   \n",
       "50%    3500.500000    36.000000     2.000000  6.571080e+05  8.584260e+05   \n",
       "75%    5250.250000    43.000000     2.000000  7.373640e+05  9.576750e+05   \n",
       "max    7000.000000    50.000000     2.000000  1.781376e+06  2.419200e+06   \n",
       "\n",
       "       no_of_loans  no_of_curr_loans  last_delinq_none  loan_default  \n",
       "count  7000.000000       7000.000000       7000.000000   7000.000000  \n",
       "mean      2.853286          1.371143          0.013286      0.400000  \n",
       "std       5.471932          2.189278          0.114504      0.489933  \n",
       "min       0.000000          0.000000          0.000000      0.000000  \n",
       "25%       0.000000          0.000000          0.000000      0.000000  \n",
       "50%       0.000000          0.000000          0.000000      0.000000  \n",
       "75%       3.000000          2.000000          0.000000      1.000000  \n",
       "max     109.000000         33.000000          1.000000      1.000000  "
      ]
     },
     "execution_count": 7,
     "metadata": {},
     "output_type": "execute_result"
    }
   ],
   "source": [
    "train_data.describe()"
   ]
  },
  {
   "cell_type": "code",
   "execution_count": 8,
   "id": "f1fc714e",
   "metadata": {},
   "outputs": [
    {
     "data": {
      "text/html": [
       "<div>\n",
       "<style scoped>\n",
       "    .dataframe tbody tr th:only-of-type {\n",
       "        vertical-align: middle;\n",
       "    }\n",
       "\n",
       "    .dataframe tbody tr th {\n",
       "        vertical-align: top;\n",
       "    }\n",
       "\n",
       "    .dataframe thead th {\n",
       "        text-align: right;\n",
       "    }\n",
       "</style>\n",
       "<table border=\"1\" class=\"dataframe\">\n",
       "  <thead>\n",
       "    <tr style=\"text-align: right;\">\n",
       "      <th></th>\n",
       "      <th>loan_id</th>\n",
       "      <th>age</th>\n",
       "      <th>education</th>\n",
       "      <th>loan_amount</th>\n",
       "      <th>asset_cost</th>\n",
       "      <th>no_of_loans</th>\n",
       "      <th>no_of_curr_loans</th>\n",
       "      <th>last_delinq_none</th>\n",
       "    </tr>\n",
       "  </thead>\n",
       "  <tbody>\n",
       "    <tr>\n",
       "      <th>count</th>\n",
       "      <td>3000.000000</td>\n",
       "      <td>3000.000000</td>\n",
       "      <td>2908.000000</td>\n",
       "      <td>3.000000e+03</td>\n",
       "      <td>3.000000e+03</td>\n",
       "      <td>3000.000000</td>\n",
       "      <td>3000.000000</td>\n",
       "      <td>3000.000000</td>\n",
       "    </tr>\n",
       "    <tr>\n",
       "      <th>mean</th>\n",
       "      <td>8500.500000</td>\n",
       "      <td>36.111000</td>\n",
       "      <td>1.563618</td>\n",
       "      <td>6.629294e+05</td>\n",
       "      <td>9.106000e+05</td>\n",
       "      <td>2.819000</td>\n",
       "      <td>1.374333</td>\n",
       "      <td>0.014333</td>\n",
       "    </tr>\n",
       "    <tr>\n",
       "      <th>std</th>\n",
       "      <td>866.169729</td>\n",
       "      <td>7.467347</td>\n",
       "      <td>0.496022</td>\n",
       "      <td>1.451009e+05</td>\n",
       "      <td>2.070278e+05</td>\n",
       "      <td>5.329575</td>\n",
       "      <td>2.218825</td>\n",
       "      <td>0.118881</td>\n",
       "    </tr>\n",
       "    <tr>\n",
       "      <th>min</th>\n",
       "      <td>7001.000000</td>\n",
       "      <td>21.000000</td>\n",
       "      <td>1.000000</td>\n",
       "      <td>1.696800e+05</td>\n",
       "      <td>4.706040e+05</td>\n",
       "      <td>0.000000</td>\n",
       "      <td>0.000000</td>\n",
       "      <td>0.000000</td>\n",
       "    </tr>\n",
       "    <tr>\n",
       "      <th>25%</th>\n",
       "      <td>7750.750000</td>\n",
       "      <td>30.000000</td>\n",
       "      <td>1.000000</td>\n",
       "      <td>5.801880e+05</td>\n",
       "      <td>7.930710e+05</td>\n",
       "      <td>0.000000</td>\n",
       "      <td>0.000000</td>\n",
       "      <td>0.000000</td>\n",
       "    </tr>\n",
       "    <tr>\n",
       "      <th>50%</th>\n",
       "      <td>8500.500000</td>\n",
       "      <td>36.000000</td>\n",
       "      <td>2.000000</td>\n",
       "      <td>6.541560e+05</td>\n",
       "      <td>8.569080e+05</td>\n",
       "      <td>0.000000</td>\n",
       "      <td>0.000000</td>\n",
       "      <td>0.000000</td>\n",
       "    </tr>\n",
       "    <tr>\n",
       "      <th>75%</th>\n",
       "      <td>9250.250000</td>\n",
       "      <td>42.000000</td>\n",
       "      <td>2.000000</td>\n",
       "      <td>7.315590e+05</td>\n",
       "      <td>9.501360e+05</td>\n",
       "      <td>4.000000</td>\n",
       "      <td>2.000000</td>\n",
       "      <td>0.000000</td>\n",
       "    </tr>\n",
       "    <tr>\n",
       "      <th>max</th>\n",
       "      <td>10000.000000</td>\n",
       "      <td>50.000000</td>\n",
       "      <td>2.000000</td>\n",
       "      <td>1.576920e+06</td>\n",
       "      <td>2.358180e+06</td>\n",
       "      <td>92.000000</td>\n",
       "      <td>32.000000</td>\n",
       "      <td>1.000000</td>\n",
       "    </tr>\n",
       "  </tbody>\n",
       "</table>\n",
       "</div>"
      ],
      "text/plain": [
       "            loan_id          age    education   loan_amount    asset_cost  \\\n",
       "count   3000.000000  3000.000000  2908.000000  3.000000e+03  3.000000e+03   \n",
       "mean    8500.500000    36.111000     1.563618  6.629294e+05  9.106000e+05   \n",
       "std      866.169729     7.467347     0.496022  1.451009e+05  2.070278e+05   \n",
       "min     7001.000000    21.000000     1.000000  1.696800e+05  4.706040e+05   \n",
       "25%     7750.750000    30.000000     1.000000  5.801880e+05  7.930710e+05   \n",
       "50%     8500.500000    36.000000     2.000000  6.541560e+05  8.569080e+05   \n",
       "75%     9250.250000    42.000000     2.000000  7.315590e+05  9.501360e+05   \n",
       "max    10000.000000    50.000000     2.000000  1.576920e+06  2.358180e+06   \n",
       "\n",
       "       no_of_loans  no_of_curr_loans  last_delinq_none  \n",
       "count  3000.000000       3000.000000       3000.000000  \n",
       "mean      2.819000          1.374333          0.014333  \n",
       "std       5.329575          2.218825          0.118881  \n",
       "min       0.000000          0.000000          0.000000  \n",
       "25%       0.000000          0.000000          0.000000  \n",
       "50%       0.000000          0.000000          0.000000  \n",
       "75%       4.000000          2.000000          0.000000  \n",
       "max      92.000000         32.000000          1.000000  "
      ]
     },
     "execution_count": 8,
     "metadata": {},
     "output_type": "execute_result"
    }
   ],
   "source": [
    "test_data.describe()"
   ]
  },
  {
   "cell_type": "markdown",
   "id": "7f008e28",
   "metadata": {},
   "source": [
    "# Visualization"
   ]
  },
  {
   "cell_type": "code",
   "execution_count": 9,
   "id": "2dbcdf8a",
   "metadata": {},
   "outputs": [
    {
     "data": {
      "text/plain": [
       "<AxesSubplot:>"
      ]
     },
     "execution_count": 9,
     "metadata": {},
     "output_type": "execute_result"
    },
    {
     "data": {
      "image/png": "[encoded data removed]",
      "text/plain": [
       "<Figure size 432x288 with 1 Axes>"
      ]
     },
     "metadata": {
      "needs_background": "light"
     },
     "output_type": "display_data"
    }
   ],
   "source": [
    "# let distribustion plot(histogram) for age\n",
    "train_data[\"age\"].hist(bins = 20)"
   ]
  },
  {
   "cell_type": "code",
   "execution_count": 10,
   "id": "15ea81f4",
   "metadata": {},
   "outputs": [
    {
     "data": {
      "text/plain": [
       "<AxesSubplot:>"
      ]
     },
     "execution_count": 10,
     "metadata": {},
     "output_type": "execute_result"
    },
    {
     "data": {
      "image/png": "[encoded data removed]",
      "text/plain": [
       "<Figure size 432x288 with 1 Axes>"
      ]
     },
     "metadata": {
      "needs_background": "light"
     },
     "output_type": "display_data"
    }
   ],
   "source": [
    "# Loan amount \n",
    "train_data[\"loan_amount\"].hist(bins = 30)"
   ]
  },
  {
   "cell_type": "code",
   "execution_count": 11,
   "id": "e39cadf9",
   "metadata": {},
   "outputs": [
    {
     "data": {
      "text/plain": [
       "<AxesSubplot:>"
      ]
     },
     "execution_count": 11,
     "metadata": {},
     "output_type": "execute_result"
    },
    {
     "data": {
      "image/png": "[encoded data removed]",
      "text/plain": [
       "<Figure size 432x288 with 1 Axes>"
      ]
     },
     "metadata": {
      "needs_background": "light"
     },
     "output_type": "display_data"
    }
   ],
   "source": [
    "#asset_cost\n",
    "train_data[\"asset_cost\"].hist(bins = 30)"
   ]
  },
  {
   "cell_type": "code",
   "execution_count": 12,
   "id": "13e877a9",
   "metadata": {},
   "outputs": [
    {
     "data": {
      "text/plain": [
       "2.0    3796\n",
       "1.0    2959\n",
       "Name: education, dtype: int64"
      ]
     },
     "execution_count": 12,
     "metadata": {},
     "output_type": "execute_result"
    }
   ],
   "source": [
    "# education\n",
    "train_data[\"education\"].value_counts()"
   ]
  },
  {
   "cell_type": "code",
   "execution_count": 13,
   "id": "750b04a2",
   "metadata": {},
   "outputs": [
    {
     "data": {
      "image/png": "[encoded data removed]",
      "text/plain": [
       "<Figure size 432x288 with 1 Axes>"
      ]
     },
     "metadata": {
      "needs_background": "light"
     },
     "output_type": "display_data"
    }
   ],
   "source": [
    "# asset_cost vs loan amount\n",
    "plt.scatter(\"asset_cost\",\"loan_amount\",data = train_data)\n",
    "plt.xlabel(\"Asset cost\")\n",
    "plt.ylabel(\"Loan Amount\")\n",
    "plt.title(\"Asset cost vs Loan Amount\")\n",
    "plt.show()"
   ]
  },
  {
   "cell_type": "code",
   "execution_count": 14,
   "id": "68c68824",
   "metadata": {},
   "outputs": [
    {
     "data": {
      "text/plain": [
       "2.0    3796\n",
       "1.0    2959\n",
       "Name: education, dtype: int64"
      ]
     },
     "execution_count": 14,
     "metadata": {},
     "output_type": "execute_result"
    }
   ],
   "source": [
    "train_data[\"education\"].value_counts()"
   ]
  },
  {
   "cell_type": "code",
   "execution_count": 15,
   "id": "35970714",
   "metadata": {},
   "outputs": [],
   "source": [
    "# imputing education with most occur value 2.o\n",
    "train_data[\"education\"].fillna(2.0,inplace = True)"
   ]
  },
  {
   "cell_type": "code",
   "execution_count": 16,
   "id": "bd2cf61e",
   "metadata": {},
   "outputs": [
    {
     "data": {
      "text/plain": [
       "loan_id             0\n",
       "age                 0\n",
       "education           0\n",
       "proof_submitted     0\n",
       "loan_amount         0\n",
       "asset_cost          0\n",
       "no_of_loans         0\n",
       "no_of_curr_loans    0\n",
       "last_delinq_none    0\n",
       "loan_default        0\n",
       "dtype: int64"
      ]
     },
     "execution_count": 16,
     "metadata": {},
     "output_type": "execute_result"
    }
   ],
   "source": [
    "train_data.isnull().sum()"
   ]
  },
  {
   "cell_type": "code",
   "execution_count": 17,
   "id": "33631eb6",
   "metadata": {},
   "outputs": [
    {
     "data": {
      "text/plain": [
       "2.0    1639\n",
       "1.0    1269\n",
       "Name: education, dtype: int64"
      ]
     },
     "execution_count": 17,
     "metadata": {},
     "output_type": "execute_result"
    }
   ],
   "source": [
    "test_data[\"education\"].value_counts()"
   ]
  },
  {
   "cell_type": "code",
   "execution_count": 18,
   "id": "0beb793d",
   "metadata": {},
   "outputs": [],
   "source": [
    "# imputing education with most occur value 2.o\n",
    "test_data[\"education\"].fillna(2.0,inplace = True)"
   ]
  },
  {
   "cell_type": "code",
   "execution_count": 19,
   "id": "ee6577d7",
   "metadata": {},
   "outputs": [
    {
     "data": {
      "text/plain": [
       "loan_id             0\n",
       "age                 0\n",
       "education           0\n",
       "proof_submitted     0\n",
       "loan_amount         0\n",
       "asset_cost          0\n",
       "no_of_loans         0\n",
       "no_of_curr_loans    0\n",
       "last_delinq_none    0\n",
       "dtype: int64"
      ]
     },
     "execution_count": 19,
     "metadata": {},
     "output_type": "execute_result"
    }
   ],
   "source": [
    "test_data.isnull().sum()"
   ]
  },
  {
   "cell_type": "markdown",
   "id": "a6249b59",
   "metadata": {},
   "source": [
    "# Feature engineering"
   ]
  },
  {
   "cell_type": "code",
   "execution_count": 20,
   "id": "69ee2c18",
   "metadata": {},
   "outputs": [
    {
     "data": {
      "image/png": "[encoded data removed]",
      "text/plain": [
       "<Figure size 720x864 with 2 Axes>"
      ]
     },
     "metadata": {
      "needs_background": "light"
     },
     "output_type": "display_data"
    }
   ],
   "source": [
    " # let us create correlation matirx\n",
    "import matplotlib.pyplot as plt\n",
    "import seaborn as sns\n",
    "\n",
    "plt.figure(figsize = (10,12))\n",
    "sns.heatmap(train_data.corr(),annot = True)\n",
    "plt.show()"
   ]
  },
  {
   "cell_type": "code",
   "execution_count": 21,
   "id": "4101f5e6",
   "metadata": {},
   "outputs": [],
   "source": [
    "# we will create  loan_amount_ratio using  loan_amount and asset_cost \n",
    "# as assest cost and loan amount is highly correlated feature!!"
   ]
  },
  {
   "cell_type": "code",
   "execution_count": 22,
   "id": "ffb6895e",
   "metadata": {},
   "outputs": [],
   "source": [
    "# let create new feature loan_amount_ratio\n",
    "train_data[\"loan_amount_ratio\"] = train_data[\"asset_cost\"]/ train_data[\"loan_amount\"]"
   ]
  },
  {
   "cell_type": "code",
   "execution_count": 23,
   "id": "5e92c0ad",
   "metadata": {},
   "outputs": [
    {
     "data": {
      "text/html": [
       "<div>\n",
       "<style scoped>\n",
       "    .dataframe tbody tr th:only-of-type {\n",
       "        vertical-align: middle;\n",
       "    }\n",
       "\n",
       "    .dataframe tbody tr th {\n",
       "        vertical-align: top;\n",
       "    }\n",
       "\n",
       "    .dataframe thead th {\n",
       "        text-align: right;\n",
       "    }\n",
       "</style>\n",
       "<table border=\"1\" class=\"dataframe\">\n",
       "  <thead>\n",
       "    <tr style=\"text-align: right;\">\n",
       "      <th></th>\n",
       "      <th>loan_id</th>\n",
       "      <th>age</th>\n",
       "      <th>education</th>\n",
       "      <th>proof_submitted</th>\n",
       "      <th>loan_amount</th>\n",
       "      <th>asset_cost</th>\n",
       "      <th>no_of_loans</th>\n",
       "      <th>no_of_curr_loans</th>\n",
       "      <th>last_delinq_none</th>\n",
       "      <th>loan_default</th>\n",
       "      <th>loan_amount_ratio</th>\n",
       "    </tr>\n",
       "  </thead>\n",
       "  <tbody>\n",
       "    <tr>\n",
       "      <th>0</th>\n",
       "      <td>1</td>\n",
       "      <td>27</td>\n",
       "      <td>1.0</td>\n",
       "      <td>Aadhar</td>\n",
       "      <td>504264</td>\n",
       "      <td>820920</td>\n",
       "      <td>2</td>\n",
       "      <td>2</td>\n",
       "      <td>0</td>\n",
       "      <td>0</td>\n",
       "      <td>1.627957</td>\n",
       "    </tr>\n",
       "    <tr>\n",
       "      <th>1</th>\n",
       "      <td>2</td>\n",
       "      <td>48</td>\n",
       "      <td>1.0</td>\n",
       "      <td>Aadhar</td>\n",
       "      <td>728556</td>\n",
       "      <td>831444</td>\n",
       "      <td>6</td>\n",
       "      <td>2</td>\n",
       "      <td>0</td>\n",
       "      <td>0</td>\n",
       "      <td>1.141222</td>\n",
       "    </tr>\n",
       "    <tr>\n",
       "      <th>2</th>\n",
       "      <td>3</td>\n",
       "      <td>30</td>\n",
       "      <td>2.0</td>\n",
       "      <td>VoterID</td>\n",
       "      <td>642936</td>\n",
       "      <td>826092</td>\n",
       "      <td>0</td>\n",
       "      <td>0</td>\n",
       "      <td>0</td>\n",
       "      <td>1</td>\n",
       "      <td>1.284874</td>\n",
       "    </tr>\n",
       "    <tr>\n",
       "      <th>3</th>\n",
       "      <td>4</td>\n",
       "      <td>28</td>\n",
       "      <td>1.0</td>\n",
       "      <td>Aadhar</td>\n",
       "      <td>746556</td>\n",
       "      <td>930924</td>\n",
       "      <td>0</td>\n",
       "      <td>0</td>\n",
       "      <td>0</td>\n",
       "      <td>0</td>\n",
       "      <td>1.246958</td>\n",
       "    </tr>\n",
       "    <tr>\n",
       "      <th>4</th>\n",
       "      <td>5</td>\n",
       "      <td>29</td>\n",
       "      <td>1.0</td>\n",
       "      <td>Aadhar</td>\n",
       "      <td>1139880</td>\n",
       "      <td>1902000</td>\n",
       "      <td>0</td>\n",
       "      <td>0</td>\n",
       "      <td>0</td>\n",
       "      <td>0</td>\n",
       "      <td>1.668597</td>\n",
       "    </tr>\n",
       "  </tbody>\n",
       "</table>\n",
       "</div>"
      ],
      "text/plain": [
       "   loan_id  age  education proof_submitted  loan_amount  asset_cost  \\\n",
       "0        1   27        1.0          Aadhar       504264      820920   \n",
       "1        2   48        1.0          Aadhar       728556      831444   \n",
       "2        3   30        2.0         VoterID       642936      826092   \n",
       "3        4   28        1.0          Aadhar       746556      930924   \n",
       "4        5   29        1.0          Aadhar      1139880     1902000   \n",
       "\n",
       "   no_of_loans  no_of_curr_loans  last_delinq_none  loan_default  \\\n",
       "0            2                 2                 0             0   \n",
       "1            6                 2                 0             0   \n",
       "2            0                 0                 0             1   \n",
       "3            0                 0                 0             0   \n",
       "4            0                 0                 0             0   \n",
       "\n",
       "   loan_amount_ratio  \n",
       "0           1.627957  \n",
       "1           1.141222  \n",
       "2           1.284874  \n",
       "3           1.246958  \n",
       "4           1.668597  "
      ]
     },
     "execution_count": 23,
     "metadata": {},
     "output_type": "execute_result"
    }
   ],
   "source": [
    "train_data.head()"
   ]
  },
  {
   "cell_type": "code",
   "execution_count": 24,
   "id": "0c2a6542",
   "metadata": {},
   "outputs": [],
   "source": [
    "# let us drop asset_cost and loan_amount\n",
    "train_data = train_data.drop([\"asset_cost\",\"loan_amount\"],axis = 1)"
   ]
  },
  {
   "cell_type": "code",
   "execution_count": 25,
   "id": "7da86d50",
   "metadata": {
    "scrolled": true
   },
   "outputs": [
    {
     "data": {
      "image/png": "[encoded data removed]",
      "text/plain": [
       "<Figure size 720x864 with 2 Axes>"
      ]
     },
     "metadata": {
      "needs_background": "light"
     },
     "output_type": "display_data"
    }
   ],
   "source": [
    "plt.figure(figsize = (10,12))\n",
    "sns.heatmap(train_data.corr(),annot = True)\n",
    "plt.show()"
   ]
  },
  {
   "cell_type": "code",
   "execution_count": 26,
   "id": "adad6396",
   "metadata": {},
   "outputs": [],
   "source": [
    "# we will create  loan_closed_no using  no_of_loans and no_of_curr_loans \n",
    "# as no_of_loans and no_of_curr_loans is highly correlated feature!!"
   ]
  },
  {
   "cell_type": "code",
   "execution_count": 27,
   "id": "ba882793",
   "metadata": {},
   "outputs": [],
   "source": [
    "# let create new feature loan_closed_no\n",
    "train_data[\"loan_closed_no\"] = train_data[\"no_of_loans\"] - train_data[\"no_of_curr_loans\"]"
   ]
  },
  {
   "cell_type": "code",
   "execution_count": 28,
   "id": "f5f601f2",
   "metadata": {},
   "outputs": [
    {
     "data": {
      "text/plain": [
       "0     4632\n",
       "2      684\n",
       "1      549\n",
       "3      311\n",
       "4      186\n",
       "5      121\n",
       "6      101\n",
       "7       69\n",
       "8       55\n",
       "9       50\n",
       "10      40\n",
       "12      34\n",
       "11      26\n",
       "13      22\n",
       "16      14\n",
       "15      13\n",
       "17      13\n",
       "18      10\n",
       "19       9\n",
       "14       9\n",
       "28       6\n",
       "24       6\n",
       "20       6\n",
       "23       5\n",
       "21       3\n",
       "32       3\n",
       "30       2\n",
       "27       2\n",
       "61       2\n",
       "41       2\n",
       "44       2\n",
       "22       1\n",
       "34       1\n",
       "98       1\n",
       "53       1\n",
       "29       1\n",
       "25       1\n",
       "60       1\n",
       "36       1\n",
       "31       1\n",
       "35       1\n",
       "43       1\n",
       "51       1\n",
       "71       1\n",
       "Name: loan_closed_no, dtype: int64"
      ]
     },
     "execution_count": 28,
     "metadata": {},
     "output_type": "execute_result"
    }
   ],
   "source": [
    "train_data[\"loan_closed_no\"].value_counts()"
   ]
  },
  {
   "cell_type": "code",
   "execution_count": null,
   "id": "4b9d3e2e",
   "metadata": {},
   "outputs": [],
   "source": [
    "# let us drop no_of_loans and no_of_curr_loans\n",
    "train_data = train_data.drop([\"no_of_curr_loans\",\"no_of_loans\"],axis = 1)"
   ]
  },
  {
   "cell_type": "code",
   "execution_count": null,
   "id": "e72b5db7",
   "metadata": {},
   "outputs": [],
   "source": [
    "plt.figure(figsize = (10,12))\n",
    "sns.heatmap(train_data.corr(),annot = True)\n",
    "plt.show()"
   ]
  },
  {
   "cell_type": "code",
   "execution_count": null,
   "id": "0bcc0b34",
   "metadata": {},
   "outputs": [],
   "source": [
    "# loan id is no useful feature we will drop\n",
    "train_data = train_data.drop(\"loan_id\",axis = 1)"
   ]
  },
  {
   "cell_type": "code",
   "execution_count": null,
   "id": "07657f79",
   "metadata": {},
   "outputs": [],
   "source": [
    "# proof_submitted  feature\n",
    "train_data[\"proof_submitted\"].value_counts()"
   ]
  },
  {
   "cell_type": "code",
   "execution_count": null,
   "id": "5aecbc7d",
   "metadata": {},
   "outputs": [],
   "source": [
    "# transform categorical value into numeric\n",
    "from sklearn.preprocessing import LabelEncoder  \n",
    "label_encoder = LabelEncoder()\n",
    "train_data[\"proof_submitted\"] = label_encoder.fit_transform(train_data[\"proof_submitted\"])"
   ]
  },
  {
   "cell_type": "code",
   "execution_count": null,
   "id": "18c10b36",
   "metadata": {},
   "outputs": [],
   "source": [
    "train_data.head()"
   ]
  },
  {
   "cell_type": "code",
   "execution_count": null,
   "id": "deacba5b",
   "metadata": {},
   "outputs": [],
   "source": [
    "# let drop loan_id column\n",
    "test_data = test_data.drop(\"loan_id\",axis = 1)"
   ]
  },
  {
   "cell_type": "code",
   "execution_count": null,
   "id": "a0b5a603",
   "metadata": {},
   "outputs": [],
   "source": [
    "test_data.head()"
   ]
  },
  {
   "cell_type": "code",
   "execution_count": null,
   "id": "a1b282c5",
   "metadata": {},
   "outputs": [],
   "source": [
    "# let create new feature loan_amount_ratio\n",
    "test_data[\"loan_amount_ratio\"] = test_data[\"asset_cost\"]/ test_data[\"loan_amount\"]"
   ]
  },
  {
   "cell_type": "code",
   "execution_count": null,
   "id": "10762595",
   "metadata": {},
   "outputs": [],
   "source": [
    "# let us drop asset_cost and loan_amount\n",
    "test_data = test_data.drop([\"asset_cost\",\"loan_amount\"],axis = 1)"
   ]
  },
  {
   "cell_type": "code",
   "execution_count": null,
   "id": "659c7be3",
   "metadata": {},
   "outputs": [],
   "source": [
    "test_data.head()"
   ]
  },
  {
   "cell_type": "code",
   "execution_count": null,
   "id": "3102a197",
   "metadata": {},
   "outputs": [],
   "source": [
    "# let create new feature loan_closed_no\n",
    "test_data[\"loan_closed_no\"] = test_data[\"no_of_loans\"] - test_data[\"no_of_curr_loans\"]"
   ]
  },
  {
   "cell_type": "code",
   "execution_count": null,
   "id": "cc865f16",
   "metadata": {},
   "outputs": [],
   "source": [
    "# let us drop no_of_loans and no_of_curr_loans\n",
    "test_data = test_data.drop([\"no_of_curr_loans\",\"no_of_loans\"],axis = 1)"
   ]
  },
  {
   "cell_type": "code",
   "execution_count": null,
   "id": "2ab6d214",
   "metadata": {},
   "outputs": [],
   "source": [
    "plt.figure(figsize = (10,12))\n",
    "sns.heatmap(test_data.corr(),annot = True)\n",
    "plt.show()"
   ]
  },
  {
   "cell_type": "code",
   "execution_count": null,
   "id": "7b9f2bc7",
   "metadata": {},
   "outputs": [],
   "source": [
    "test_data[\"proof_submitted\"] = label_encoder.fit_transform(test_data[\"proof_submitted\"])"
   ]
  },
  {
   "cell_type": "code",
   "execution_count": null,
   "id": "64b0b646",
   "metadata": {},
   "outputs": [],
   "source": [
    "test_data.head()"
   ]
  },
  {
   "cell_type": "code",
   "execution_count": null,
   "id": "d3771bc4",
   "metadata": {},
   "outputs": [],
   "source": [
    "# for age we will create age group ....bins !!!!!!!!!!!!!\n",
    "#Age Bins : using qcut\n",
    "test_data[\"age\"] = pd.qcut(test_data['age'].astype(int), 5) # creating 5 bins"
   ]
  },
  {
   "cell_type": "code",
   "execution_count": null,
   "id": "cac8c2d1",
   "metadata": {},
   "outputs": [],
   "source": [
    "test_data.head()"
   ]
  },
  {
   "cell_type": "code",
   "execution_count": null,
   "id": "06867ab7",
   "metadata": {},
   "outputs": [],
   "source": [
    "test_data.info()"
   ]
  },
  {
   "cell_type": "code",
   "execution_count": null,
   "id": "77699fc3",
   "metadata": {},
   "outputs": [],
   "source": [
    "test_data[\"age\"] = label_encoder.fit_transform(test_data[\"age\"])"
   ]
  },
  {
   "cell_type": "code",
   "execution_count": null,
   "id": "f2bc1fc2",
   "metadata": {},
   "outputs": [],
   "source": [
    "test_data.head()"
   ]
  },
  {
   "cell_type": "code",
   "execution_count": null,
   "id": "db430cf0",
   "metadata": {},
   "outputs": [],
   "source": [
    "test_data[\"loan_amount_ratio_log\"] = np.log(test_data[\"loan_amount_ratio\"])"
   ]
  },
  {
   "cell_type": "code",
   "execution_count": null,
   "id": "ab81d8c4",
   "metadata": {},
   "outputs": [],
   "source": [
    "test_data = test_data.drop(\"loan_amount_ratio\",axis = 1)\n",
    "test_data.head()"
   ]
  },
  {
   "cell_type": "code",
   "execution_count": null,
   "id": "46f3c8d5",
   "metadata": {},
   "outputs": [],
   "source": [
    "# for age we will create age group ....bins !!!!!!!!!!!!!\n",
    "#Age Bins : using qcut\n",
    "train_data[\"age\"] = pd.qcut(train_data['age'].astype(int), 5) # creating 5 bins"
   ]
  },
  {
   "cell_type": "code",
   "execution_count": null,
   "id": "cd267fb0",
   "metadata": {},
   "outputs": [],
   "source": [
    "train_data[\"age\"] = label_encoder.fit_transform(train_data[\"age\"])"
   ]
  },
  {
   "cell_type": "code",
   "execution_count": null,
   "id": "5453c8dc",
   "metadata": {},
   "outputs": [],
   "source": [
    "train_data.head()"
   ]
  },
  {
   "cell_type": "markdown",
   "id": "80433b5d",
   "metadata": {},
   "source": [
    "# Model creation"
   ]
  },
  {
   "cell_type": "code",
   "execution_count": null,
   "id": "a5e79bfa",
   "metadata": {},
   "outputs": [],
   "source": [
    "# let us Define X and Y first\n",
    "\n",
    "X = train_data.drop(\"loan_default\",axis = 1)\n",
    "Y = train_data[\"loan_default\"]"
   ]
  },
  {
   "cell_type": "code",
   "execution_count": null,
   "id": "1783a8b3",
   "metadata": {},
   "outputs": [],
   "source": [
    "# let scale using standard scaler\n",
    "from sklearn.preprocessing import StandardScaler\n",
    "scaler = StandardScaler()\n",
    "X_scale = scaler.fit_transform(X)\n",
    "test_data_scale = scaler.transform(test_data)"
   ]
  },
  {
   "cell_type": "code",
   "execution_count": null,
   "id": "72acb389",
   "metadata": {},
   "outputs": [],
   "source": [
    "print('X_train shape: {}'.format(X_scale.shape))\n",
    "print('y_train shape: {}'.format(Y.shape))\n",
    "print('X_test shape: {}'.format(test_data_scale.shape))"
   ]
  },
  {
   "cell_type": "code",
   "execution_count": null,
   "id": "98170940",
   "metadata": {},
   "outputs": [],
   "source": [
    "# Logistic Model\n",
    "from sklearn.linear_model import LogisticRegression"
   ]
  },
  {
   "cell_type": "code",
   "execution_count": null,
   "id": "913ef4ae",
   "metadata": {},
   "outputs": [],
   "source": [
    "logistic_model = LogisticRegression(random_state = 42)"
   ]
  },
  {
   "cell_type": "code",
   "execution_count": null,
   "id": "397c86ee",
   "metadata": {},
   "outputs": [],
   "source": [
    "logistic_model.fit(X_scale,Y)"
   ]
  },
  {
   "cell_type": "code",
   "execution_count": null,
   "id": "9b27cd85",
   "metadata": {},
   "outputs": [],
   "source": [
    "# PREDICITING FROM THE MODEL\n",
    "y_pred_logistic = logistic_model.predict(X_scale)\n",
    "y_pred_logistic"
   ]
  },
  {
   "cell_type": "code",
   "execution_count": null,
   "id": "e29419f1",
   "metadata": {},
   "outputs": [],
   "source": [
    "# ACCURACY\n",
    "from sklearn.metrics import accuracy_score, classification_report, confusion_matrix\n",
    "print(\"ACCURACY of logistic model is:\", accuracy_score(Y, y_pred_logistic))"
   ]
  },
  {
   "cell_type": "code",
   "execution_count": null,
   "id": "9dffe30d",
   "metadata": {},
   "outputs": [],
   "source": [
    "# let us check classification report\n",
    "print(classification_report(Y, y_pred_logistic))"
   ]
  },
  {
   "cell_type": "markdown",
   "id": "d43fd88a",
   "metadata": {},
   "source": [
    "# Predicting for test data"
   ]
  },
  {
   "cell_type": "code",
   "execution_count": null,
   "id": "1ac4e2fc",
   "metadata": {},
   "outputs": [],
   "source": [
    "y_pred_test = logistic_model.predict(test_data_scale)"
   ]
  },
  {
   "cell_type": "code",
   "execution_count": null,
   "id": "77e7894b",
   "metadata": {},
   "outputs": [],
   "source": [
    "y_pred_test"
   ]
  },
  {
   "cell_type": "code",
   "execution_count": null,
   "id": "7b965b5a",
   "metadata": {},
   "outputs": [],
   "source": [
    "# sumbission\n",
    "submission_dataframe = pd.read_csv(\"sample_submission.csv\")\n",
    "submission_dataframe[\"loan_default\"] = y_pred_test\n",
    "submission_dataframe.to_csv(\"loan_default_pred_457.csv\",index=False)"
   ]
  },
  {
   "cell_type": "code",
   "execution_count": null,
   "id": "50216e90",
   "metadata": {},
   "outputs": [],
   "source": [
    "# let us train model using random forest\n",
    "from sklearn.ensemble import RandomForestClassifier"
   ]
  },
  {
   "cell_type": "code",
   "execution_count": null,
   "id": "b208213e",
   "metadata": {},
   "outputs": [],
   "source": [
    "random_forest_model = RandomForestClassifier(n_estimators=100)"
   ]
  },
  {
   "cell_type": "code",
   "execution_count": null,
   "id": "100e1de3",
   "metadata": {},
   "outputs": [],
   "source": [
    "random_forest_model.fit(X_scale, Y)"
   ]
  },
  {
   "cell_type": "code",
   "execution_count": null,
   "id": "697d87a6",
   "metadata": {},
   "outputs": [],
   "source": [
    "# PREDICITING FROM THE MODEL\n",
    "y_pred_train = random_forest_model.predict(X_scale)"
   ]
  },
  {
   "cell_type": "code",
   "execution_count": null,
   "id": "c3b0e2a6",
   "metadata": {},
   "outputs": [],
   "source": [
    "# accuracy\n",
    "print(\"ACCURACY of random forest model is:\", accuracy_score(Y, y_pred_train))"
   ]
  },
  {
   "cell_type": "code",
   "execution_count": null,
   "id": "8ee1c92b",
   "metadata": {},
   "outputs": [],
   "source": [
    "y_pred_test_rf= random_forest_model.predict(test_data_scale)\n",
    "\n",
    "# sumbission\n",
    "submission_dataframe = pd.read_csv(\"sample_submission.csv\")\n",
    "submission_dataframe[\"loan_default\"] = y_pred_test_rf\n",
    "submission_dataframe.to_csv(\"loan_default_pred_v14.csv\",index=False)"
   ]
  },
  {
   "cell_type": "markdown",
   "id": "d429be04",
   "metadata": {},
   "source": [
    "# AdaBoost"
   ]
  },
  {
   "cell_type": "code",
   "execution_count": null,
   "id": "9a26d289",
   "metadata": {},
   "outputs": [],
   "source": [
    "# import library\n",
    "from sklearn.ensemble import AdaBoostClassifier"
   ]
  },
  {
   "cell_type": "code",
   "execution_count": null,
   "id": "ed9eda09",
   "metadata": {},
   "outputs": [],
   "source": [
    "ada_boost_model = AdaBoostClassifier(n_estimators = 50, learning_rate = 0.1)\n",
    "ada_boost_model.fit(X_scale, Y)"
   ]
  },
  {
   "cell_type": "code",
   "execution_count": null,
   "id": "0e1c0246",
   "metadata": {},
   "outputs": [],
   "source": [
    "# Predicitng from the model\n",
    "y_pred_ada_boost = ada_boost_model.predict(X_scale)"
   ]
  },
  {
   "cell_type": "code",
   "execution_count": null,
   "id": "c95c1972",
   "metadata": {},
   "outputs": [],
   "source": [
    "# Accuracy\n",
    "print(\"Accuracy:\",accuracy_score(Y, y_pred_ada_boost))"
   ]
  },
  {
   "cell_type": "code",
   "execution_count": null,
   "id": "3df46c68",
   "metadata": {},
   "outputs": [],
   "source": [
    "y_pred_test_ada_boost= ada_boost_model.predict(test_data_scale)\n",
    "\n",
    "# sumbission\n",
    "submission_dataframe = pd.read_csv(\"sample_submission.csv\")\n",
    "submission_dataframe[\"loan_default\"] = y_pred_test_ada_boost\n",
    "submission_dataframe.to_csv(\"loan_default_pred_v124.csv\",index=False)"
   ]
  },
  {
   "cell_type": "markdown",
   "id": "b57566e5",
   "metadata": {},
   "source": [
    "# Ensemble"
   ]
  },
  {
   "cell_type": "code",
   "execution_count": null,
   "id": "79a847fb",
   "metadata": {},
   "outputs": [],
   "source": [
    "from sklearn.ensemble import RandomForestClassifier\n",
    "from xgboost.sklearn import XGBClassifier\n",
    "from sklearn.ensemble import VotingClassifier\n",
    "from sklearn.ensemble import AdaBoostClassifier\n",
    "from sklearn.tree import DecisionTreeClassifier"
   ]
  },
  {
   "cell_type": "code",
   "execution_count": null,
   "id": "1fc25fa8",
   "metadata": {},
   "outputs": [],
   "source": [
    "forest = RandomForestClassifier(n_estimators =500, criterion='entropy', oob_score=True, random_state=1,n_jobs=-1)"
   ]
  },
  {
   "cell_type": "code",
   "execution_count": null,
   "id": "d4299080",
   "metadata": {},
   "outputs": [],
   "source": [
    "xgb1 = XGBClassifier(learning_rate =0.1, n_estimators=1000, max_depth=8, min_child_weight=6, gamma=0.1, subsample=0.95,\n",
    "                     colsample_bytree=0.95, reg_alpha=2, objective= 'binary:logistic', nthread=4, scale_pos_weight=1, seed=27)"
   ]
  },
  {
   "cell_type": "code",
   "execution_count": null,
   "id": "7c3dc929",
   "metadata": {},
   "outputs": [],
   "source": [
    "tree = DecisionTreeClassifier(criterion='entropy',max_depth=1)"
   ]
  },
  {
   "cell_type": "code",
   "execution_count": null,
   "id": "b7ec1c2c",
   "metadata": {},
   "outputs": [],
   "source": [
    "ada = AdaBoostClassifier(base_estimator=tree, n_estimators=500, learning_rate=0.1, random_state=0)"
   ]
  },
  {
   "cell_type": "code",
   "execution_count": null,
   "id": "25f2fdd9",
   "metadata": {},
   "outputs": [],
   "source": [
    "eclf = VotingClassifier(estimators=[('forest', forest), ('xgb', xgb1), ('adaboost', ada)], voting='hard')"
   ]
  },
  {
   "cell_type": "code",
   "execution_count": null,
   "id": "e1490d47",
   "metadata": {},
   "outputs": [],
   "source": [
    "eclf.fit(X_scale, Y)"
   ]
  },
  {
   "cell_type": "code",
   "execution_count": null,
   "id": "2422ee6c",
   "metadata": {},
   "outputs": [],
   "source": [
    "y_pred_ensamble= eclf.predict(test_data_scale)\n",
    "\n",
    "# sumbission\n",
    "submission_dataframe = pd.read_csv(\"sample_submission.csv\")\n",
    "submission_dataframe[\"loan_default\"] = y_pred_ensamble\n",
    "submission_dataframe.to_csv(\"loan_default_pred_ensamble.csv\",index=False)"
   ]
  },
  {
   "cell_type": "code",
   "execution_count": null,
   "id": "e9d0f0cc",
   "metadata": {},
   "outputs": [],
   "source": []
  }
 ],
 "metadata": {
  "kernelspec": {
   "display_name": "Python 3",
   "language": "python",
   "name": "python3"
  },
  "language_info": {
   "codemirror_mode": {
    "name": "ipython",
    "version": 3
   },
   "file_extension": ".py",
   "mimetype": "text/x-python",
   "name": "python",
   "nbconvert_exporter": "python",
   "pygments_lexer": "ipython3",
   "version": "3.8.8"
  }
 },
 "nbformat": 4,
 "nbformat_minor": 5
}
